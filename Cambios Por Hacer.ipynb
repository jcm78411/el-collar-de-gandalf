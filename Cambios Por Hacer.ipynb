{
 "cells": [
  {
   "cell_type": "markdown",
   "id": "9847af07",
   "metadata": {},
   "source": [
    "**1. nombres dentro de la perla** **----------------------------------------------------------------------- HECHO**"
   ]
  },
  {
   "cell_type": "markdown",
   "id": "e5f74def",
   "metadata": {},
   "source": [
    "**2. mas estilo de collar al collar**"
   ]
  },
  {
   "cell_type": "markdown",
   "id": "aa1c75bb",
   "metadata": {},
   "source": [
    "**3. en la tabla solo en numero sin #**  **-----------------------------------------------------------------**  **HECHO**"
   ]
  },
  {
   "cell_type": "markdown",
   "id": "91340bc7",
   "metadata": {},
   "source": [
    "**4. el collar no rota, solo se intercambia el color (salto)**   **------------------------------------------**  **HECHO**"
   ]
  },
  {
   "cell_type": "markdown",
   "id": "d3d60f03",
   "metadata": {},
   "source": [
    "**5. las 2 iteraciones adicionales no se cuentan, ya que la tansformacion lo hace** **--------------- HECHO**"
   ]
  },
  {
   "cell_type": "markdown",
   "id": "eb5e40c0",
   "metadata": {},
   "source": [
    "**6. mostrar en una ventana modal los resultados del # de iteraciones** **-------------------------- HECHO**"
   ]
  }
 ],
 "metadata": {
  "language_info": {
   "name": "python"
  }
 },
 "nbformat": 4,
 "nbformat_minor": 5
}
